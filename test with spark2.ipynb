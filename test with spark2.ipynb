{
    "cells": [
        {
            "cell_type": "code",
            "execution_count": 2,
            "metadata": {},
            "outputs": [
                {
                    "data": {
                        "text/html": "<div>\n<style scoped>\n    .dataframe tbody tr th:only-of-type {\n        vertical-align: middle;\n    }\n\n    .dataframe tbody tr th {\n        vertical-align: top;\n    }\n\n    .dataframe thead th {\n        text-align: right;\n    }\n</style>\n<table border=\"1\" class=\"dataframe\">\n  <thead>\n    <tr style=\"text-align: right;\">\n      <th></th>\n      <th>PG.Cscore</th>\n      <th>PG.ProteinDescriptions</th>\n      <th>PG.Qvalue</th>\n      <th>PG.UniProtIds</th>\n      <th>[1] PL_E0107_V1-1.htrms.PG.Quantity</th>\n      <th>[2] PL_E0107_V1-2.htrms.PG.Quantity</th>\n      <th>[3] PL_E0107_V1-3.htrms.PG.Quantity</th>\n      <th>[4] PL_E0107_V2-1.htrms.PG.Quantity</th>\n      <th>[5] PL_E0107_V2-2.htrms.PG.Quantity</th>\n      <th>[6] PL_E0107_V2-3.htrms.PG.Quantity</th>\n      <th>[7] PL_E0107_V3-1.htrms.PG.Quantity</th>\n      <th>[8] PL_E0107_V3-2.htrms.PG.Quantity</th>\n      <th>[9] PL_E0107_V3-3.htrms.PG.Quantity</th>\n      <th>[10] PL_E0107_V5-1.htrms.PG.Quantity</th>\n      <th>[11] PL_E0107_V5-2.htrms.PG.Quantity</th>\n      <th>[12] PL_E0107_V5-3.htrms.PG.Quantity</th>\n    </tr>\n  </thead>\n  <tbody>\n    <tr>\n      <th>0</th>\n      <td>0.653297</td>\n      <td>Immunoglobulin lambda variable 2-18</td>\n      <td>2.500000e-19</td>\n      <td>A0A075B6J9</td>\n      <td>65.308490</td>\n      <td>72.029313</td>\n      <td>65.335524</td>\n      <td>60.061792</td>\n      <td>63.903005</td>\n      <td>62.417810</td>\n      <td>56.719586</td>\n      <td>49.986401</td>\n      <td>52.474795</td>\n      <td>37.557520</td>\n      <td>NaN</td>\n      <td>35.455583</td>\n    </tr>\n    <tr>\n      <th>1</th>\n      <td>0.682868</td>\n      <td>Immunoglobulin lambda variable 3-10</td>\n      <td>2.620000e-29</td>\n      <td>A0A075B6K4</td>\n      <td>331.379099</td>\n      <td>343.957211</td>\n      <td>325.239893</td>\n      <td>331.873411</td>\n      <td>313.530936</td>\n      <td>292.515754</td>\n      <td>240.759346</td>\n      <td>244.214873</td>\n      <td>259.877466</td>\n      <td>166.633769</td>\n      <td>151.917713</td>\n      <td>161.371421</td>\n    </tr>\n    <tr>\n      <th>2</th>\n      <td>0.586411</td>\n      <td>Immunoglobulin kappa variable 2-28</td>\n      <td>1.680000e-05</td>\n      <td>A0A075B6P5</td>\n      <td>NaN</td>\n      <td>34.465042</td>\n      <td>NaN</td>\n      <td>61.502194</td>\n      <td>67.611326</td>\n      <td>64.720219</td>\n      <td>39.742981</td>\n      <td>36.399900</td>\n      <td>40.159056</td>\n      <td>NaN</td>\n      <td>NaN</td>\n      <td>NaN</td>\n    </tr>\n    <tr>\n      <th>3</th>\n      <td>0.604404</td>\n      <td>Immunoglobulin heavy variable 4-4</td>\n      <td>4.770000e-08</td>\n      <td>A0A075B6R2</td>\n      <td>NaN</td>\n      <td>NaN</td>\n      <td>125.549711</td>\n      <td>103.112551</td>\n      <td>140.911126</td>\n      <td>128.307225</td>\n      <td>110.338285</td>\n      <td>114.138165</td>\n      <td>89.030727</td>\n      <td>79.704558</td>\n      <td>88.493280</td>\n      <td>70.755457</td>\n    </tr>\n    <tr>\n      <th>4</th>\n      <td>0.600730</td>\n      <td>Immunoglobulin kappa variable 1-27</td>\n      <td>1.860000e-07</td>\n      <td>A0A075B6S5</td>\n      <td>348.607101</td>\n      <td>333.833163</td>\n      <td>231.500281</td>\n      <td>402.604534</td>\n      <td>193.734787</td>\n      <td>192.383773</td>\n      <td>243.576377</td>\n      <td>233.193267</td>\n      <td>393.901663</td>\n      <td>246.638649</td>\n      <td>170.453850</td>\n      <td>231.247911</td>\n    </tr>\n  </tbody>\n</table>\n</div>",
                        "text/plain": "   PG.Cscore               PG.ProteinDescriptions     PG.Qvalue PG.UniProtIds  \\\n0   0.653297  Immunoglobulin lambda variable 2-18  2.500000e-19    A0A075B6J9   \n1   0.682868  Immunoglobulin lambda variable 3-10  2.620000e-29    A0A075B6K4   \n2   0.586411   Immunoglobulin kappa variable 2-28  1.680000e-05    A0A075B6P5   \n3   0.604404    Immunoglobulin heavy variable 4-4  4.770000e-08    A0A075B6R2   \n4   0.600730   Immunoglobulin kappa variable 1-27  1.860000e-07    A0A075B6S5   \n\n   [1] PL_E0107_V1-1.htrms.PG.Quantity  [2] PL_E0107_V1-2.htrms.PG.Quantity  \\\n0                            65.308490                            72.029313   \n1                           331.379099                           343.957211   \n2                                  NaN                            34.465042   \n3                                  NaN                                  NaN   \n4                           348.607101                           333.833163   \n\n   [3] PL_E0107_V1-3.htrms.PG.Quantity  [4] PL_E0107_V2-1.htrms.PG.Quantity  \\\n0                            65.335524                            60.061792   \n1                           325.239893                           331.873411   \n2                                  NaN                            61.502194   \n3                           125.549711                           103.112551   \n4                           231.500281                           402.604534   \n\n   [5] PL_E0107_V2-2.htrms.PG.Quantity  [6] PL_E0107_V2-3.htrms.PG.Quantity  \\\n0                            63.903005                            62.417810   \n1                           313.530936                           292.515754   \n2                            67.611326                            64.720219   \n3                           140.911126                           128.307225   \n4                           193.734787                           192.383773   \n\n   [7] PL_E0107_V3-1.htrms.PG.Quantity  [8] PL_E0107_V3-2.htrms.PG.Quantity  \\\n0                            56.719586                            49.986401   \n1                           240.759346                           244.214873   \n2                            39.742981                            36.399900   \n3                           110.338285                           114.138165   \n4                           243.576377                           233.193267   \n\n   [9] PL_E0107_V3-3.htrms.PG.Quantity  [10] PL_E0107_V5-1.htrms.PG.Quantity  \\\n0                            52.474795                             37.557520   \n1                           259.877466                            166.633769   \n2                            40.159056                                   NaN   \n3                            89.030727                             79.704558   \n4                           393.901663                            246.638649   \n\n   [11] PL_E0107_V5-2.htrms.PG.Quantity  [12] PL_E0107_V5-3.htrms.PG.Quantity  \n0                                   NaN                             35.455583  \n1                            151.917713                            161.371421  \n2                                   NaN                                   NaN  \n3                             88.493280                             70.755457  \n4                            170.453850                            231.247911  "
                    },
                    "execution_count": 2,
                    "metadata": {},
                    "output_type": "execute_result"
                }
            ],
            "source": "# The code was removed by Watson Studio for sharing."
        },
        {
            "cell_type": "code",
            "execution_count": null,
            "metadata": {},
            "outputs": [],
            "source": ""
        }
    ],
    "metadata": {
        "kernelspec": {
            "display_name": "Python 3.7 with Spark",
            "language": "python3",
            "name": "python37"
        },
        "language_info": {
            "codemirror_mode": {
                "name": "ipython",
                "version": 3
            },
            "file_extension": ".py",
            "mimetype": "text/x-python",
            "name": "python",
            "nbconvert_exporter": "python",
            "pygments_lexer": "ipython3",
            "version": "3.7.9"
        }
    },
    "nbformat": 4,
    "nbformat_minor": 1
}